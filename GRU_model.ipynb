{
 "cells": [
  {
   "cell_type": "code",
   "execution_count": 1,
   "id": "7c560b4f",
   "metadata": {},
   "outputs": [],
   "source": [
    "import json\n",
    "import pandas as pd\n",
    "from collections import Counter\n",
    "from tqdm.auto import tqdm\n",
    "import os"
   ]
  },
  {
   "cell_type": "code",
   "execution_count": 2,
   "id": "839903f1",
   "metadata": {},
   "outputs": [],
   "source": [
    "from nltk.tokenize import RegexpTokenizer\n",
    "from scipy import sparse\n",
    "from collections import Counter\n",
    "import numpy as np\n",
    "import torch\n",
    "import torch.nn as nn\n",
    "from torch.utils import data"
   ]
  },
  {
   "cell_type": "markdown",
   "id": "3ab50653",
   "metadata": {},
   "source": [
    "## Read and Preprocess Data"
   ]
  },
  {
   "cell_type": "code",
   "execution_count": 3,
   "id": "1b14e2f4",
   "metadata": {},
   "outputs": [],
   "source": [
    "with open(\"selected_articles.json\", 'r') as file:\n",
    "    selected_articles = json.load(file)"
   ]
  },
  {
   "cell_type": "code",
   "execution_count": 4,
   "id": "67257cb3",
   "metadata": {},
   "outputs": [
    {
     "data": {
      "text/html": [
       "<div>\n",
       "<style scoped>\n",
       "    .dataframe tbody tr th:only-of-type {\n",
       "        vertical-align: middle;\n",
       "    }\n",
       "\n",
       "    .dataframe tbody tr th {\n",
       "        vertical-align: top;\n",
       "    }\n",
       "\n",
       "    .dataframe thead th {\n",
       "        text-align: right;\n",
       "    }\n",
       "</style>\n",
       "<table border=\"1\" class=\"dataframe\">\n",
       "  <thead>\n",
       "    <tr style=\"text-align: right;\">\n",
       "      <th></th>\n",
       "      <th>id</th>\n",
       "      <th>title</th>\n",
       "      <th>authors</th>\n",
       "      <th>categories</th>\n",
       "      <th>abstract</th>\n",
       "    </tr>\n",
       "  </thead>\n",
       "  <tbody>\n",
       "    <tr>\n",
       "      <th>0</th>\n",
       "      <td>1910.13472</td>\n",
       "      <td>Locally recoverable codes on surfaces</td>\n",
       "      <td>Cec\\'ilia Salgado, Anthony V\\'arilly-Alvarado ...</td>\n",
       "      <td>cs.IT math.AG math.IT</td>\n",
       "      <td>A linear error correcting code is a subspace...</td>\n",
       "    </tr>\n",
       "    <tr>\n",
       "      <th>1</th>\n",
       "      <td>1505.05124</td>\n",
       "      <td>Locally Repairable Regenerating Codes: Node Un...</td>\n",
       "      <td>Imad Ahmad and Chih-Chun Wang</td>\n",
       "      <td>cs.IT math.IT</td>\n",
       "      <td>Locally repairable codes (LRCs) are ingeniou...</td>\n",
       "    </tr>\n",
       "    <tr>\n",
       "      <th>2</th>\n",
       "      <td>2110.15133</td>\n",
       "      <td>Deep Calibration of Interest Rates Model</td>\n",
       "      <td>Mohamed Ben Alaya and Ahmed Kebaier and Djibri...</td>\n",
       "      <td>q-fin.ST cs.LG</td>\n",
       "      <td>For any financial institution it is a necess...</td>\n",
       "    </tr>\n",
       "    <tr>\n",
       "      <th>3</th>\n",
       "      <td>2204.09323</td>\n",
       "      <td>Self-supervised Learning for Sonar Image Class...</td>\n",
       "      <td>Alan Preciado-Grijalva and Bilal Wehbe and Mig...</td>\n",
       "      <td>cs.CV cs.LG</td>\n",
       "      <td>Self-supervised learning has proved to be a ...</td>\n",
       "    </tr>\n",
       "    <tr>\n",
       "      <th>4</th>\n",
       "      <td>0908.0660</td>\n",
       "      <td>A Short Note on Compressed Sensing with Partia...</td>\n",
       "      <td>Laurent Jacques</td>\n",
       "      <td>cs.IT math.IT</td>\n",
       "      <td>This short note studies a variation of the C...</td>\n",
       "    </tr>\n",
       "  </tbody>\n",
       "</table>\n",
       "</div>"
      ],
      "text/plain": [
       "           id                                              title  \\\n",
       "0  1910.13472              Locally recoverable codes on surfaces   \n",
       "1  1505.05124  Locally Repairable Regenerating Codes: Node Un...   \n",
       "2  2110.15133           Deep Calibration of Interest Rates Model   \n",
       "3  2204.09323  Self-supervised Learning for Sonar Image Class...   \n",
       "4   0908.0660  A Short Note on Compressed Sensing with Partia...   \n",
       "\n",
       "                                             authors             categories  \\\n",
       "0  Cec\\'ilia Salgado, Anthony V\\'arilly-Alvarado ...  cs.IT math.AG math.IT   \n",
       "1                      Imad Ahmad and Chih-Chun Wang          cs.IT math.IT   \n",
       "2  Mohamed Ben Alaya and Ahmed Kebaier and Djibri...         q-fin.ST cs.LG   \n",
       "3  Alan Preciado-Grijalva and Bilal Wehbe and Mig...            cs.CV cs.LG   \n",
       "4                                    Laurent Jacques          cs.IT math.IT   \n",
       "\n",
       "                                            abstract  \n",
       "0    A linear error correcting code is a subspace...  \n",
       "1    Locally repairable codes (LRCs) are ingeniou...  \n",
       "2    For any financial institution it is a necess...  \n",
       "3    Self-supervised learning has proved to be a ...  \n",
       "4    This short note studies a variation of the C...  "
      ]
     },
     "execution_count": 4,
     "metadata": {},
     "output_type": "execute_result"
    }
   ],
   "source": [
    "total_df = pd.DataFrame(selected_articles)[[\"id\", \"title\", \"authors\", \"categories\", \"abstract\"]]\n",
    "total_df = total_df.sample(frac = 1.0)\n",
    "total_df = total_df.reset_index(drop = True)\n",
    "total_df.head()"
   ]
  },
  {
   "cell_type": "code",
   "execution_count": 5,
   "id": "3e98bf86",
   "metadata": {},
   "outputs": [],
   "source": [
    "category_list = [\"cs.AI\", \"cs.DB\", \"cs.IT\", \"cs.LG\", \"cs.SI\"]\n",
    "category_dict = {\"cs.AI\":0, \"cs.DB\":1, \"cs.IT\":2, \"cs.LG\":3, \"cs.SI\":4}\n",
    "token_id = {'<PAD>':0, '<GO>':1, '<EOS>': 2, '<UNK>': 3}"
   ]
  },
  {
   "cell_type": "code",
   "execution_count": 6,
   "id": "792fdc11",
   "metadata": {},
   "outputs": [],
   "source": [
    "def built_vocabulary(traindata, tokenizer, num_special_token):\n",
    "    vocabulary = []\n",
    "    traindata['word_list'] = traindata['abstract'].apply(lambda x: [word.lower() for word in tokenizer.tokenize(x)])\n",
    "    mean_text_length = (traindata['word_list'].apply(lambda x: len(x))).mean()\n",
    "    for i, v in tqdm(traindata['word_list'].iteritems()):\n",
    "        vocabulary += v\n",
    "    voc_dict = Counter(vocabulary)\n",
    "    uniq_voc = list(set(vocabulary))\n",
    "    for word in tqdm(uniq_voc):\n",
    "        if voc_dict[word]<5:\n",
    "            voc_dict.pop(word)\n",
    "    word_place_dict={}\n",
    "    uniq_voc = list(voc_dict.keys())\n",
    "    for i in tqdm(range(len(uniq_voc))):\n",
    "        word_place_dict[uniq_voc[i]] = i + num_special_token\n",
    "    return word_place_dict, mean_text_length\n",
    "\n",
    "def process_data(data_df, word_dict, categories, category_id, special_token_id,\n",
    "                 sequence_length, if_train = True, tokenizer = None): \n",
    "    uniq_words = word_dict.keys()\n",
    "    ground_truth = np.zeros((len(data_df), len(categories)))\n",
    "    sequences = np.full((len(data_df), sequence_length), special_token_id['<PAD>'])\n",
    "    \n",
    "    # For evaluation and test, word_list need \n",
    "    if not if_train:\n",
    "        data_df['word_list'] = data_df['abstract'].apply(lambda x: [word.lower() for word in tokenizer.tokenize(x)])\n",
    "    \n",
    "    for idx, row in tqdm(data_df.iterrows()):\n",
    "        sequences[idx][0] = special_token_id['<GO>']\n",
    "        j = 0\n",
    "        word_list = row[\"word_list\"]\n",
    "        while j<len(word_list):\n",
    "            if word_list[j] in uniq_words:\n",
    "                sequences[idx][j+1] = word_dict[word_list[j]]\n",
    "            else:\n",
    "                sequences[idx][j+1] = special_token_id['<UNK>']\n",
    "                \n",
    "            if j==sequence_length-2:\n",
    "                break\n",
    "            else:\n",
    "                j += 1\n",
    "        \n",
    "        if j!=sequence_length-1:\n",
    "            sequences[idx][j+1] = special_token_id['<EOS>']\n",
    "                \n",
    "        c_list = row['categories'].split(\" \")\n",
    "        for c in c_list:\n",
    "            if c in categories:\n",
    "                ground_truth[idx][category_id[c]] = 1  \n",
    "                       \n",
    "    return sequences, ground_truth"
   ]
  },
  {
   "cell_type": "code",
   "execution_count": 7,
   "id": "45b47654",
   "metadata": {},
   "outputs": [],
   "source": [
    "# Divide the train set, evaluate set and test set\n",
    "train_df = total_df.iloc[:180000]\n",
    "valid_df = total_df.iloc[180000:192000]\n",
    "valid_df = valid_df.reset_index(drop=True)\n",
    "test_df = total_df.iloc[192000:]\n",
    "test_df = test_df.reset_index(drop=True)"
   ]
  },
  {
   "cell_type": "code",
   "execution_count": 8,
   "id": "b6558bae",
   "metadata": {},
   "outputs": [
    {
     "name": "stderr",
     "output_type": "stream",
     "text": [
      "C:\\Users\\dell\\AppData\\Local\\Temp/ipykernel_7016/200564364.py:3: SettingWithCopyWarning: \n",
      "A value is trying to be set on a copy of a slice from a DataFrame.\n",
      "Try using .loc[row_indexer,col_indexer] = value instead\n",
      "\n",
      "See the caveats in the documentation: https://pandas.pydata.org/pandas-docs/stable/user_guide/indexing.html#returning-a-view-versus-a-copy\n",
      "  traindata['word_list'] = traindata['abstract'].apply(lambda x: [word.lower() for word in tokenizer.tokenize(x)])\n"
     ]
    },
    {
     "data": {
      "application/vnd.jupyter.widget-view+json": {
       "model_id": "c745d7c3962b458c963b81bbade4b0fc",
       "version_major": 2,
       "version_minor": 0
      },
      "text/plain": [
       "0it [00:00, ?it/s]"
      ]
     },
     "metadata": {},
     "output_type": "display_data"
    },
    {
     "data": {
      "application/vnd.jupyter.widget-view+json": {
       "model_id": "a2ccb16b71b64e56b2378775ab9c6fc4",
       "version_major": 2,
       "version_minor": 0
      },
      "text/plain": [
       "  0%|          | 0/144994 [00:00<?, ?it/s]"
      ]
     },
     "metadata": {},
     "output_type": "display_data"
    },
    {
     "data": {
      "application/vnd.jupyter.widget-view+json": {
       "model_id": "1ad21adc3f7f43d2969e75e10983b3d5",
       "version_major": 2,
       "version_minor": 0
      },
      "text/plain": [
       "  0%|          | 0/47527 [00:00<?, ?it/s]"
      ]
     },
     "metadata": {},
     "output_type": "display_data"
    },
    {
     "name": "stdout",
     "output_type": "stream",
     "text": [
      "Mean text length is 171.10386666666668\n"
     ]
    }
   ],
   "source": [
    "# Get the vocabulary\n",
    "regtokenizer = RegexpTokenizer(r'\\w+')\n",
    "word_dict, mean_text_length = built_vocabulary(train_df, regtokenizer, 4)\n",
    "print(\"Mean text length is\", mean_text_length)"
   ]
  },
  {
   "cell_type": "code",
   "execution_count": 9,
   "id": "889c7c95",
   "metadata": {},
   "outputs": [
    {
     "data": {
      "application/vnd.jupyter.widget-view+json": {
       "model_id": "062b0c845bc74870ac786b6b26409867",
       "version_major": 2,
       "version_minor": 0
      },
      "text/plain": [
       "0it [00:00, ?it/s]"
      ]
     },
     "metadata": {},
     "output_type": "display_data"
    },
    {
     "data": {
      "application/vnd.jupyter.widget-view+json": {
       "model_id": "930391e10df5404499546bb47232c8ac",
       "version_major": 2,
       "version_minor": 0
      },
      "text/plain": [
       "0it [00:00, ?it/s]"
      ]
     },
     "metadata": {},
     "output_type": "display_data"
    },
    {
     "data": {
      "application/vnd.jupyter.widget-view+json": {
       "model_id": "c8fba0651c52401fa1ae5ead59093369",
       "version_major": 2,
       "version_minor": 0
      },
      "text/plain": [
       "0it [00:00, ?it/s]"
      ]
     },
     "metadata": {},
     "output_type": "display_data"
    }
   ],
   "source": [
    "train_X, train_Y_np = process_data(train_df, word_dict, category_list, category_dict, token_id, 220)\n",
    "valid_X, valid_Y_np = process_data(valid_df, word_dict, category_list, category_dict, \n",
    "                                   token_id, 220, False, regtokenizer)\n",
    "test_X, test_Y_np = process_data(test_df, word_dict, category_list, category_dict, \n",
    "                                 token_id, 220, False, regtokenizer)"
   ]
  },
  {
   "cell_type": "code",
   "execution_count": 17,
   "id": "1d94cf7c",
   "metadata": {},
   "outputs": [],
   "source": [
    "#train_Y = torch.from_numpy(train_Y_np).float()\n",
    "#valid_Y = torch.from_numpy(valid_Y_np).float()\n",
    "#test_Y = torch.from_numpy(test_Y_np).float()"
   ]
  },
  {
   "cell_type": "markdown",
   "id": "142ee9f8",
   "metadata": {},
   "source": [
    "## Define the Dataset"
   ]
  },
  {
   "cell_type": "code",
   "execution_count": 18,
   "id": "79c6c568",
   "metadata": {},
   "outputs": [],
   "source": [
    "class ArxivDataset(data.Dataset):\n",
    "    def __init__(self, encodings, labels=None):\n",
    "        self.encodings = encodings\n",
    "        self.labels = labels\n",
    "\n",
    "    def __getitem__(self, idx):\n",
    "        if self.labels is None:\n",
    "            return torch.tensor(self.encodings[idx])\n",
    "        return torch.tensor(self.encodings[idx]), torch.tensor(self.labels[idx])\n",
    "\n",
    "    def __len__(self):\n",
    "        return len(self.encodings)"
   ]
  },
  {
   "cell_type": "code",
   "execution_count": 19,
   "id": "b8ff43a9",
   "metadata": {},
   "outputs": [],
   "source": [
    "train_dataset = ArxivDataset(train_X, train_Y_np)\n",
    "valid_dataset = ArxivDataset(valid_X, valid_Y_np)\n",
    "test_dataset = ArxivDataset(test_X, test_Y_np)"
   ]
  },
  {
   "cell_type": "markdown",
   "id": "122f2c5d",
   "metadata": {},
   "source": [
    "## Define Evaluate and Test Function"
   ]
  },
  {
   "cell_type": "code",
   "execution_count": 20,
   "id": "57947d21",
   "metadata": {},
   "outputs": [],
   "source": [
    "def evaluate(dev_dataloader, Model, device, loss_fn):\n",
    "    Model.eval()\n",
    "    total_acc = 0\n",
    "    total_loss = 0\n",
    "    for step, data in tqdm(enumerate(dev_dataloader), desc = \"Evaluation step\", leave = False):\n",
    "        inputs, labels = data\n",
    "        outputs = Model(inputs.to(device))\n",
    "        ground_truth = labels.to(device)\n",
    "        total_acc += (((outputs>0.5).float() == ground_truth).float()).mean()\n",
    "        loss = loss_fn(outputs, ground_truth)\n",
    "        total_loss += loss.item()\n",
    "        \n",
    "    return total_acc/len(dev_dataloader), total_loss/len(dev_dataloader)       "
   ]
  },
  {
   "cell_type": "code",
   "execution_count": 21,
   "id": "b9083ba0",
   "metadata": {},
   "outputs": [],
   "source": [
    "def test(test_dataloader, Model, device, batch_size = 16, cag_num = 5):\n",
    "    Model.eval()\n",
    "    total_acc = 0\n",
    "    tp_fp_fn = np.ones((3, cag_num))\n",
    "    for step, data in tqdm(enumerate(test_dataloader), desc = \"Evaluation step\", leave = False):\n",
    "        inputs, labels = data\n",
    "        tmp_batch_size = labels.shape[0]\n",
    "        outputs = Model(inputs.to(device))\n",
    "        ground_truth = labels.to(device)\n",
    "        classify_results = (outputs>0.5).float()\n",
    "        total_acc += ((classify_results == ground_truth).float()).mean()\n",
    "        for j in range(tmp_batch_size):\n",
    "            for k in range(cag_num):\n",
    "                if classify_results[j][k]==1:\n",
    "                    if classify_results[j][k] == ground_truth[j][k]:\n",
    "                        tp_fp_fn[0][k] += 1\n",
    "                    else:\n",
    "                        tp_fp_fn[1][k] += 1\n",
    "                        \n",
    "                else:\n",
    "                    if ground_truth[j][k]==1:\n",
    "                        tp_fp_fn[2][k] += 1\n",
    "        \n",
    "    precision = tp_fp_fn[0]/(tp_fp_fn[0]+tp_fp_fn[1])\n",
    "    recall = tp_fp_fn[0]/(tp_fp_fn[0]+tp_fp_fn[2])\n",
    "    macrof1 = 2/(1/precision.mean() + 1/recall.mean())\n",
    "    mean_tp_fp_fn = tp_fp_fn.mean(axis = 1)\n",
    "    microf1 = 2*mean_tp_fp_fn[0]/(2*mean_tp_fp_fn[0] + mean_tp_fp_fn[1] + 2*mean_tp_fp_fn[2])\n",
    "    print(tp_fp_fn)\n",
    "        \n",
    "    return total_acc/len(test_dataloader), macrof1, microf1"
   ]
  },
  {
   "cell_type": "markdown",
   "id": "b311e1ad",
   "metadata": {},
   "source": [
    "## Define Models and Args "
   ]
  },
  {
   "cell_type": "code",
   "execution_count": 22,
   "id": "cfcd5f67",
   "metadata": {},
   "outputs": [],
   "source": [
    "device = torch.device(\"cuda\" if torch.cuda.is_available() else \"cpu\")\n",
    "dim = len(word_dict.keys()) + 4\n",
    "embedding_dim = 256\n",
    "hidden_dim = 256 \n",
    "num_layers = 2 \n",
    "if_bidirect = True\n",
    "num_class = len(category_list)\n",
    "num_epochs = 5\n",
    "batch_size = 32"
   ]
  },
  {
   "cell_type": "code",
   "execution_count": 23,
   "id": "b81b9096",
   "metadata": {},
   "outputs": [],
   "source": [
    "class GRU_Model(nn.Module):\n",
    "    def __init__(self, input_dim, embedding_dim, hidden_dim, num_layers, num_class, if_bidirect = False, dropout=0.5):\n",
    "        super(GRU_Model, self).__init__()\n",
    "        self.embedding = torch.nn.Embedding(input_dim, embedding_dim)\n",
    "        self.hidden_dim = hidden_dim\n",
    "        self.num_layers = num_layers\n",
    "        self.dropout = dropout\n",
    "        self.num_direct = 2 if if_bidirect else 1\n",
    "        self.gru = nn.GRU(embedding_dim, hidden_dim, num_layers=num_layers, batch_first=True, bidirectional = if_bidirect)\n",
    "        self.dropout_layer = nn.Dropout(dropout)\n",
    "        self.linear_layer = nn.Linear(self.num_direct*hidden_dim, num_class)\n",
    "        self.out_layer = nn.Sigmoid()\n",
    "\n",
    "        # Initialize\n",
    "        self.embedding.weight.data.uniform_(-1e-5, 1e-5)\n",
    "        self.linear_layer.weight.data.uniform_(-1e-5, 1e-5)\n",
    "        \n",
    "    \n",
    "    def forward(self, inputs):\n",
    "        inputs = self.embedding(inputs)\n",
    "        x, _ = self.gru(inputs, None)\n",
    "        if self.num_direct == 2:\n",
    "            x = torch.cat((x[:, -1, :self.hidden_dim], x[:, 0, self.hidden_dim:]), 1)\n",
    "        else:\n",
    "            x = x[:, -1, :] \n",
    "        x = self.out_layer(self.linear_layer(self.dropout_layer(x)))\n",
    "        return x\n"
   ]
  },
  {
   "cell_type": "markdown",
   "id": "d70c6922",
   "metadata": {},
   "source": [
    "## Train"
   ]
  },
  {
   "cell_type": "code",
   "execution_count": 24,
   "id": "3a2a6ecd",
   "metadata": {},
   "outputs": [],
   "source": [
    "train_dataloader = data.DataLoader(train_dataset, batch_size = batch_size)\n",
    "valid_dataloader = data.DataLoader(valid_dataset, batch_size = batch_size)\n",
    "test_dataloader = data.DataLoader(test_dataset, batch_size = batch_size)"
   ]
  },
  {
   "cell_type": "code",
   "execution_count": 27,
   "id": "624e8093",
   "metadata": {},
   "outputs": [
    {
     "data": {
      "application/vnd.jupyter.widget-view+json": {
       "model_id": "dda6a0a640e944bc8d521fa4c1a64e2d",
       "version_major": 2,
       "version_minor": 0
      },
      "text/plain": [
       "epoch:   0%|          | 0/5 [00:00<?, ?it/s]"
      ]
     },
     "metadata": {},
     "output_type": "display_data"
    },
    {
     "data": {
      "application/vnd.jupyter.widget-view+json": {
       "model_id": "",
       "version_major": 2,
       "version_minor": 0
      },
      "text/plain": [
       "step: 0it [00:00, ?it/s]"
      ]
     },
     "metadata": {},
     "output_type": "display_data"
    },
    {
     "data": {
      "application/vnd.jupyter.widget-view+json": {
       "model_id": "",
       "version_major": 2,
       "version_minor": 0
      },
      "text/plain": [
       "Evaluation step: 0it [00:00, ?it/s]"
      ]
     },
     "metadata": {},
     "output_type": "display_data"
    },
    {
     "name": "stdout",
     "output_type": "stream",
     "text": [
      "Mean Train Loss 1.5787721820548177 Mean evaluation accuracy tensor(0.7070, device='cuda:0') Mean evaluation loss 1.5819964559276898\n"
     ]
    },
    {
     "data": {
      "application/vnd.jupyter.widget-view+json": {
       "model_id": "",
       "version_major": 2,
       "version_minor": 0
      },
      "text/plain": [
       "Evaluation step: 0it [00:00, ?it/s]"
      ]
     },
     "metadata": {},
     "output_type": "display_data"
    },
    {
     "name": "stdout",
     "output_type": "stream",
     "text": [
      "Mean Train Loss 1.5937477783486247 Mean evaluation accuracy tensor(0.7070, device='cuda:0') Mean evaluation loss 1.5815760117073854\n"
     ]
    },
    {
     "data": {
      "application/vnd.jupyter.widget-view+json": {
       "model_id": "",
       "version_major": 2,
       "version_minor": 0
      },
      "text/plain": [
       "Evaluation step: 0it [00:00, ?it/s]"
      ]
     },
     "metadata": {},
     "output_type": "display_data"
    },
    {
     "name": "stdout",
     "output_type": "stream",
     "text": [
      "Mean Train Loss 1.594785363599658 Mean evaluation accuracy tensor(0.7070, device='cuda:0') Mean evaluation loss 1.581682127058506\n"
     ]
    },
    {
     "data": {
      "application/vnd.jupyter.widget-view+json": {
       "model_id": "",
       "version_major": 2,
       "version_minor": 0
      },
      "text/plain": [
       "Evaluation step: 0it [00:00, ?it/s]"
      ]
     },
     "metadata": {},
     "output_type": "display_data"
    },
    {
     "name": "stdout",
     "output_type": "stream",
     "text": [
      "Mean Train Loss 1.5772892357409 Mean evaluation accuracy tensor(0.7070, device='cuda:0') Mean evaluation loss 1.5811045299172402\n"
     ]
    },
    {
     "data": {
      "application/vnd.jupyter.widget-view+json": {
       "model_id": "",
       "version_major": 2,
       "version_minor": 0
      },
      "text/plain": [
       "Evaluation step: 0it [00:00, ?it/s]"
      ]
     },
     "metadata": {},
     "output_type": "display_data"
    },
    {
     "name": "stdout",
     "output_type": "stream",
     "text": [
      "Mean Train Loss 1.4249455945193767 Mean evaluation accuracy tensor(0.8122, device='cuda:0') Mean evaluation loss 1.4196031926423311\n"
     ]
    },
    {
     "data": {
      "application/vnd.jupyter.widget-view+json": {
       "model_id": "",
       "version_major": 2,
       "version_minor": 0
      },
      "text/plain": [
       "step: 0it [00:00, ?it/s]"
      ]
     },
     "metadata": {},
     "output_type": "display_data"
    },
    {
     "data": {
      "application/vnd.jupyter.widget-view+json": {
       "model_id": "",
       "version_major": 2,
       "version_minor": 0
      },
      "text/plain": [
       "Evaluation step: 0it [00:00, ?it/s]"
      ]
     },
     "metadata": {},
     "output_type": "display_data"
    },
    {
     "name": "stdout",
     "output_type": "stream",
     "text": [
      "Mean Train Loss 1.4051466304250062 Mean evaluation accuracy tensor(0.8293, device='cuda:0') Mean evaluation loss 1.4047494386732577\n"
     ]
    },
    {
     "data": {
      "application/vnd.jupyter.widget-view+json": {
       "model_id": "",
       "version_major": 2,
       "version_minor": 0
      },
      "text/plain": [
       "Evaluation step: 0it [00:00, ?it/s]"
      ]
     },
     "metadata": {},
     "output_type": "display_data"
    },
    {
     "name": "stdout",
     "output_type": "stream",
     "text": [
      "Mean Train Loss 1.3813016783073544 Mean evaluation accuracy tensor(0.8493, device='cuda:0') Mean evaluation loss 1.3904852069467306\n"
     ]
    },
    {
     "data": {
      "application/vnd.jupyter.widget-view+json": {
       "model_id": "",
       "version_major": 2,
       "version_minor": 0
      },
      "text/plain": [
       "Evaluation step: 0it [00:00, ?it/s]"
      ]
     },
     "metadata": {},
     "output_type": "display_data"
    },
    {
     "name": "stdout",
     "output_type": "stream",
     "text": [
      "Mean Train Loss 1.382972399983555 Mean evaluation accuracy tensor(0.8593, device='cuda:0') Mean evaluation loss 1.385834967240691\n"
     ]
    },
    {
     "data": {
      "application/vnd.jupyter.widget-view+json": {
       "model_id": "",
       "version_major": 2,
       "version_minor": 0
      },
      "text/plain": [
       "Evaluation step: 0it [00:00, ?it/s]"
      ]
     },
     "metadata": {},
     "output_type": "display_data"
    },
    {
     "name": "stdout",
     "output_type": "stream",
     "text": [
      "Mean Train Loss 1.3921737109683454 Mean evaluation accuracy tensor(0.8585, device='cuda:0') Mean evaluation loss 1.3828888927549123\n"
     ]
    },
    {
     "data": {
      "application/vnd.jupyter.widget-view+json": {
       "model_id": "",
       "version_major": 2,
       "version_minor": 0
      },
      "text/plain": [
       "Evaluation step: 0it [00:00, ?it/s]"
      ]
     },
     "metadata": {},
     "output_type": "display_data"
    },
    {
     "name": "stdout",
     "output_type": "stream",
     "text": [
      "Mean Train Loss 1.373969420660287 Mean evaluation accuracy tensor(0.8602, device='cuda:0') Mean evaluation loss 1.3770951221684615\n"
     ]
    },
    {
     "data": {
      "application/vnd.jupyter.widget-view+json": {
       "model_id": "",
       "version_major": 2,
       "version_minor": 0
      },
      "text/plain": [
       "Evaluation step: 0it [00:00, ?it/s]"
      ]
     },
     "metadata": {},
     "output_type": "display_data"
    },
    {
     "name": "stdout",
     "output_type": "stream",
     "text": [
      "Mean Train Loss 1.3722691129893065 Mean evaluation accuracy tensor(0.8582, device='cuda:0') Mean evaluation loss 1.3754596312095722\n"
     ]
    },
    {
     "data": {
      "application/vnd.jupyter.widget-view+json": {
       "model_id": "",
       "version_major": 2,
       "version_minor": 0
      },
      "text/plain": [
       "step: 0it [00:00, ?it/s]"
      ]
     },
     "metadata": {},
     "output_type": "display_data"
    },
    {
     "data": {
      "application/vnd.jupyter.widget-view+json": {
       "model_id": "",
       "version_major": 2,
       "version_minor": 0
      },
      "text/plain": [
       "Evaluation step: 0it [00:00, ?it/s]"
      ]
     },
     "metadata": {},
     "output_type": "display_data"
    },
    {
     "name": "stdout",
     "output_type": "stream",
     "text": [
      "Mean Train Loss 1.3736258474737406 Mean evaluation accuracy tensor(0.8610, device='cuda:0') Mean evaluation loss 1.373585111523668\n"
     ]
    },
    {
     "data": {
      "application/vnd.jupyter.widget-view+json": {
       "model_id": "",
       "version_major": 2,
       "version_minor": 0
      },
      "text/plain": [
       "Evaluation step: 0it [00:00, ?it/s]"
      ]
     },
     "metadata": {},
     "output_type": "display_data"
    },
    {
     "name": "stdout",
     "output_type": "stream",
     "text": [
      "Mean Train Loss 1.3633460587635637 Mean evaluation accuracy tensor(0.8571, device='cuda:0') Mean evaluation loss 1.3714622069795925\n"
     ]
    },
    {
     "data": {
      "application/vnd.jupyter.widget-view+json": {
       "model_id": "",
       "version_major": 2,
       "version_minor": 0
      },
      "text/plain": [
       "Evaluation step: 0it [00:00, ?it/s]"
      ]
     },
     "metadata": {},
     "output_type": "display_data"
    },
    {
     "name": "stdout",
     "output_type": "stream",
     "text": [
      "Mean Train Loss 1.3812199027463794 Mean evaluation accuracy tensor(0.8625, device='cuda:0') Mean evaluation loss 1.3708459758460523\n"
     ]
    },
    {
     "data": {
      "application/vnd.jupyter.widget-view+json": {
       "model_id": "",
       "version_major": 2,
       "version_minor": 0
      },
      "text/plain": [
       "Evaluation step: 0it [00:00, ?it/s]"
      ]
     },
     "metadata": {},
     "output_type": "display_data"
    },
    {
     "name": "stdout",
     "output_type": "stream",
     "text": [
      "Mean Train Loss 1.3737359531968831 Mean evaluation accuracy tensor(0.8593, device='cuda:0') Mean evaluation loss 1.3714800573140382\n"
     ]
    },
    {
     "data": {
      "application/vnd.jupyter.widget-view+json": {
       "model_id": "",
       "version_major": 2,
       "version_minor": 0
      },
      "text/plain": [
       "Evaluation step: 0it [00:00, ?it/s]"
      ]
     },
     "metadata": {},
     "output_type": "display_data"
    },
    {
     "name": "stdout",
     "output_type": "stream",
     "text": [
      "Mean Train Loss 1.3420529473014176 Mean evaluation accuracy tensor(0.8596, device='cuda:0') Mean evaluation loss 1.378006750990947\n"
     ]
    },
    {
     "data": {
      "application/vnd.jupyter.widget-view+json": {
       "model_id": "",
       "version_major": 2,
       "version_minor": 0
      },
      "text/plain": [
       "step: 0it [00:00, ?it/s]"
      ]
     },
     "metadata": {},
     "output_type": "display_data"
    },
    {
     "data": {
      "application/vnd.jupyter.widget-view+json": {
       "model_id": "",
       "version_major": 2,
       "version_minor": 0
      },
      "text/plain": [
       "Evaluation step: 0it [00:00, ?it/s]"
      ]
     },
     "metadata": {},
     "output_type": "display_data"
    },
    {
     "name": "stdout",
     "output_type": "stream",
     "text": [
      "Mean Train Loss 1.358885349072516 Mean evaluation accuracy tensor(0.8671, device='cuda:0') Mean evaluation loss 1.369292905251185\n"
     ]
    },
    {
     "data": {
      "application/vnd.jupyter.widget-view+json": {
       "model_id": "",
       "version_major": 2,
       "version_minor": 0
      },
      "text/plain": [
       "Evaluation step: 0it [00:00, ?it/s]"
      ]
     },
     "metadata": {},
     "output_type": "display_data"
    },
    {
     "name": "stdout",
     "output_type": "stream",
     "text": [
      "Mean Train Loss 1.3475418585538863 Mean evaluation accuracy tensor(0.8641, device='cuda:0') Mean evaluation loss 1.3694016814430554\n"
     ]
    },
    {
     "data": {
      "application/vnd.jupyter.widget-view+json": {
       "model_id": "",
       "version_major": 2,
       "version_minor": 0
      },
      "text/plain": [
       "Evaluation step: 0it [00:00, ?it/s]"
      ]
     },
     "metadata": {},
     "output_type": "display_data"
    },
    {
     "name": "stdout",
     "output_type": "stream",
     "text": [
      "Mean Train Loss 1.3532063624449073 Mean evaluation accuracy tensor(0.8703, device='cuda:0') Mean evaluation loss 1.3726520235886177\n"
     ]
    },
    {
     "data": {
      "application/vnd.jupyter.widget-view+json": {
       "model_id": "",
       "version_major": 2,
       "version_minor": 0
      },
      "text/plain": [
       "Evaluation step: 0it [00:00, ?it/s]"
      ]
     },
     "metadata": {},
     "output_type": "display_data"
    },
    {
     "name": "stdout",
     "output_type": "stream",
     "text": [
      "Mean Train Loss 1.3501915108412503 Mean evaluation accuracy tensor(0.8671, device='cuda:0') Mean evaluation loss 1.368821869045496\n"
     ]
    },
    {
     "data": {
      "application/vnd.jupyter.widget-view+json": {
       "model_id": "",
       "version_major": 2,
       "version_minor": 0
      },
      "text/plain": [
       "Evaluation step: 0it [00:00, ?it/s]"
      ]
     },
     "metadata": {},
     "output_type": "display_data"
    },
    {
     "name": "stdout",
     "output_type": "stream",
     "text": [
      "Mean Train Loss 1.3348415513522922 Mean evaluation accuracy tensor(0.8699, device='cuda:0') Mean evaluation loss 1.3720403171777724\n"
     ]
    },
    {
     "data": {
      "application/vnd.jupyter.widget-view+json": {
       "model_id": "",
       "version_major": 2,
       "version_minor": 0
      },
      "text/plain": [
       "Evaluation step: 0it [00:00, ?it/s]"
      ]
     },
     "metadata": {},
     "output_type": "display_data"
    },
    {
     "name": "stdout",
     "output_type": "stream",
     "text": [
      "Mean Train Loss 1.3598679750971496 Mean evaluation accuracy tensor(0.8653, device='cuda:0') Mean evaluation loss 1.3699206720739603\n"
     ]
    },
    {
     "data": {
      "application/vnd.jupyter.widget-view+json": {
       "model_id": "",
       "version_major": 2,
       "version_minor": 0
      },
      "text/plain": [
       "step: 0it [00:00, ?it/s]"
      ]
     },
     "metadata": {},
     "output_type": "display_data"
    },
    {
     "data": {
      "application/vnd.jupyter.widget-view+json": {
       "model_id": "",
       "version_major": 2,
       "version_minor": 0
      },
      "text/plain": [
       "Evaluation step: 0it [00:00, ?it/s]"
      ]
     },
     "metadata": {},
     "output_type": "display_data"
    },
    {
     "name": "stdout",
     "output_type": "stream",
     "text": [
      "Mean Train Loss 1.3573012106493116 Mean evaluation accuracy tensor(0.8629, device='cuda:0') Mean evaluation loss 1.374916678706805\n"
     ]
    },
    {
     "data": {
      "application/vnd.jupyter.widget-view+json": {
       "model_id": "",
       "version_major": 2,
       "version_minor": 0
      },
      "text/plain": [
       "Evaluation step: 0it [00:00, ?it/s]"
      ]
     },
     "metadata": {},
     "output_type": "display_data"
    },
    {
     "name": "stdout",
     "output_type": "stream",
     "text": [
      "Mean Train Loss 1.3765248600393534 Mean evaluation accuracy tensor(0.8647, device='cuda:0') Mean evaluation loss 1.3696642367442449\n"
     ]
    },
    {
     "data": {
      "application/vnd.jupyter.widget-view+json": {
       "model_id": "",
       "version_major": 2,
       "version_minor": 0
      },
      "text/plain": [
       "Evaluation step: 0it [00:00, ?it/s]"
      ]
     },
     "metadata": {},
     "output_type": "display_data"
    },
    {
     "name": "stdout",
     "output_type": "stream",
     "text": [
      "Mean Train Loss 1.326667442973703 Mean evaluation accuracy tensor(0.8659, device='cuda:0') Mean evaluation loss 1.3677313841780028\n"
     ]
    },
    {
     "data": {
      "application/vnd.jupyter.widget-view+json": {
       "model_id": "",
       "version_major": 2,
       "version_minor": 0
      },
      "text/plain": [
       "Evaluation step: 0it [00:00, ?it/s]"
      ]
     },
     "metadata": {},
     "output_type": "display_data"
    },
    {
     "name": "stdout",
     "output_type": "stream",
     "text": [
      "Mean Train Loss 1.3545829099230469 Mean evaluation accuracy tensor(0.8650, device='cuda:0') Mean evaluation loss 1.3710541903277238\n"
     ]
    },
    {
     "data": {
      "application/vnd.jupyter.widget-view+json": {
       "model_id": "",
       "version_major": 2,
       "version_minor": 0
      },
      "text/plain": [
       "Evaluation step: 0it [00:00, ?it/s]"
      ]
     },
     "metadata": {},
     "output_type": "display_data"
    },
    {
     "name": "stdout",
     "output_type": "stream",
     "text": [
      "Mean Train Loss 1.3622788935527206 Mean evaluation accuracy tensor(0.8638, device='cuda:0') Mean evaluation loss 1.3681210251400868\n"
     ]
    },
    {
     "data": {
      "application/vnd.jupyter.widget-view+json": {
       "model_id": "",
       "version_major": 2,
       "version_minor": 0
      },
      "text/plain": [
       "Evaluation step: 0it [00:00, ?it/s]"
      ]
     },
     "metadata": {},
     "output_type": "display_data"
    },
    {
     "name": "stdout",
     "output_type": "stream",
     "text": [
      "Mean Train Loss 1.3617389087937772 Mean evaluation accuracy tensor(0.8669, device='cuda:0') Mean evaluation loss 1.3691597534120084\n"
     ]
    }
   ],
   "source": [
    "loss_function = nn.CrossEntropyLoss()\n",
    "model = GRU_Model(dim, embedding_dim, hidden_dim, num_layers, num_class, if_bidirect)\n",
    "model.to(device)\n",
    "optimizer = torch.optim.AdamW(model.parameters(), lr=5e-5)\n",
    "loss_record = [] \n",
    "eval_accuracy_list = []\n",
    "eval_loss_list = []\n",
    "k = 0\n",
    "\n",
    "tr_loss = 0\n",
    "model.train()\n",
    "for epoch in tqdm(range(num_epochs), desc = \"epoch\", leave = True):\n",
    "    for step, batch in tqdm(enumerate(train_dataloader), desc = \"step\", leave = False):\n",
    "        inputs, labels = tuple(t.to(device) for t in batch)\n",
    "        \n",
    "        outputs = model.forward(inputs)\n",
    "        loss = loss_function(outputs, labels)\n",
    "        loss.backward()\n",
    "        optimizer.step()\n",
    "        model.zero_grad()\n",
    "        k += 1\n",
    "        tr_loss += loss.item()\n",
    "        \n",
    "\n",
    "        if k%100 == 0 and k!=0:\n",
    "            loss_record.append(tr_loss/100)            \n",
    "            if k%1000 == 0:\n",
    "                eval_acc, eval_loss = evaluate(valid_dataloader, model, device, loss_function)\n",
    "                eval_accuracy_list.append(eval_acc)\n",
    "                eval_loss_list.append(eval_loss)\n",
    "                print(\"Mean Train Loss\", tr_loss/100, \"Mean evaluation accuracy\", eval_acc, \n",
    "                     \"Mean evaluation loss\", eval_loss)\n",
    "                model.train()\n",
    "            \n",
    "            tr_loss = 0\n",
    "                \n",
    "    save_path = \"./checkpoint_gru/checkpoint-\"+str(epoch+1)\n",
    "    if not os.path.exists(save_path):\n",
    "        os.makedirs(save_path)\n",
    "    model.to(torch.device(\"cpu\"))\n",
    "    torch.save(model, save_path + \"/gru_model_\"+str(epoch+1)+\".pt\")\n",
    "    model.to(device)\n"
   ]
  },
  {
   "cell_type": "markdown",
   "id": "1962b4e4",
   "metadata": {},
   "source": [
    "## Final Test and Store Results"
   ]
  },
  {
   "cell_type": "code",
   "execution_count": 28,
   "id": "06dd4144",
   "metadata": {},
   "outputs": [
    {
     "data": {
      "text/plain": [
       "array([1.76375148, 1.59062484, 1.58889554, 1.57544296, 1.58522168,\n",
       "       1.5837742 , 1.58814364, 1.58652863, 1.57687202, 1.57877218,\n",
       "       1.59094861, 1.58300302, 1.58314809, 1.57143514, 1.60342165,\n",
       "       1.56733006, 1.57802993, 1.57699705, 1.57200197, 1.59374778,\n",
       "       1.57713208, 1.59753102, 1.58446734, 1.58759021, 1.55983184,\n",
       "       1.58923013, 1.58600149, 1.5883169 , 1.5733782 , 1.59478536,\n",
       "       1.57961544, 1.56147328, 1.56816488, 1.61746859, 1.58055662,\n",
       "       1.5631631 , 1.59126473, 1.56932118, 1.59436641, 1.57728924,\n",
       "       1.55293036, 1.52318272, 1.4684927 , 1.46276019, 1.44382296,\n",
       "       1.42637039, 1.41771146, 1.39876114, 1.4062425 , 1.42494559,\n",
       "       1.43164808, 1.43097645, 1.4191723 , 1.41448223, 1.4299    ,\n",
       "       1.42975271, 1.4175339 , 1.41314412, 1.39001095, 1.40514663,\n",
       "       1.41120102, 1.38967379, 1.40722321, 1.40195351, 1.38775116,\n",
       "       1.39106262, 1.39694539, 1.38492972, 1.39544082, 1.38130168,\n",
       "       1.40307848, 1.37559829, 1.38720215, 1.38302378, 1.37556924,\n",
       "       1.39487841, 1.38567788, 1.38412957, 1.38491433, 1.3829724 ,\n",
       "       1.35100029, 1.38241864, 1.39612861, 1.39375599, 1.38300318,\n",
       "       1.39648588, 1.38877802, 1.36260625, 1.36870454, 1.39217371,\n",
       "       1.39399885, 1.37674681, 1.38429769, 1.36895578, 1.38139931,\n",
       "       1.38125694, 1.36768501, 1.34398457, 1.3595578 , 1.37396942,\n",
       "       1.37094902, 1.37139806, 1.36433387, 1.3387037 , 1.35116826,\n",
       "       1.37197666, 1.37791946, 1.37719934, 1.38087965, 1.37226911,\n",
       "       1.38248307, 1.3672153 , 1.3787448 , 1.36102591, 1.36323225,\n",
       "       1.36830794, 1.36432386, 1.36432671, 1.36021473, 1.37362585,\n",
       "       1.36536692, 1.35676256, 1.37052652, 1.35670583, 1.37076018,\n",
       "       1.34763147, 1.37784866, 1.36778895, 1.35427878, 1.36334606,\n",
       "       1.36273353, 1.36000794, 1.37708522, 1.35557217, 1.37580457,\n",
       "       1.37014115, 1.32881158, 1.36603912, 1.36579532, 1.3812199 ,\n",
       "       1.35972037, 1.36968404, 1.38461381, 1.35854851, 1.3423895 ,\n",
       "       1.36097813, 1.38600585, 1.36945732, 1.35378339, 1.37373595,\n",
       "       1.34927317, 1.39220105, 1.35118669, 1.33925645, 1.3315858 ,\n",
       "       1.36656186, 1.36528893, 1.35763614, 1.35010676, 1.34205295,\n",
       "       1.33299502, 1.34554086, 1.37446263, 1.37061123, 1.36288928,\n",
       "       1.36655395, 1.37301981, 1.35911459, 1.36261838, 1.35888535,\n",
       "       1.3519281 , 1.35623396, 1.35817148, 1.35063325, 1.35834838,\n",
       "       1.35507436, 1.35571524, 1.35342289, 1.36162343, 1.34754186,\n",
       "       1.3603502 , 1.35433405, 1.35657441, 1.36668897, 1.35231205,\n",
       "       1.34871819, 1.34416455, 1.35229611, 1.37904804, 1.35320636,\n",
       "       1.37259465, 1.34714973, 1.34712925, 1.33373417, 1.36258688,\n",
       "       1.37671956, 1.3565629 , 1.35638958, 1.38036209, 1.35019151,\n",
       "       1.33340128, 1.34962982, 1.38749887, 1.35656157, 1.34702864,\n",
       "       1.36088733, 1.34073298, 1.37870126, 1.34914365, 1.33484155,\n",
       "       1.32492899, 1.35975316, 1.34780561, 1.38038917, 1.33386717,\n",
       "       1.33931961, 1.32109247, 1.33440761, 1.36808665, 1.35986798,\n",
       "       1.35923776, 1.37467195, 1.35606411, 1.35781016, 1.36955689,\n",
       "       1.36219798, 1.34590506, 1.34652156, 1.34465095, 1.35730121,\n",
       "       1.34930302, 1.35976438, 1.35358573, 1.34713221, 1.35346076,\n",
       "       1.35058487, 1.34643651, 1.35723881, 1.34369219, 1.37652486,\n",
       "       1.34037744, 1.34096487, 1.35156571, 1.34229391, 1.36397145,\n",
       "       1.35104247, 1.36156819, 1.35477163, 1.3470702 , 1.32666744,\n",
       "       1.34917018, 1.37361652, 1.35603819, 1.35686992, 1.37886497,\n",
       "       1.34877247, 1.32528394, 1.33324551, 1.38759681, 1.35458291,\n",
       "       1.33693935, 1.36159556, 1.33850631, 1.36709042, 1.34742151,\n",
       "       1.33552529, 1.32253366, 1.34607172, 1.3570401 , 1.36227889,\n",
       "       1.33352947, 1.33499392, 1.32065049, 1.32648491, 1.35325388,\n",
       "       1.3616995 , 1.36139657, 1.35820186, 1.34809369, 1.36173891,\n",
       "       1.3509438 ])"
      ]
     },
     "execution_count": 28,
     "metadata": {},
     "output_type": "execute_result"
    }
   ],
   "source": [
    "train_loss = np.array([loss_record, np.arange(100, k+1, 100)])\n",
    "train_loss[0]"
   ]
  },
  {
   "cell_type": "code",
   "execution_count": 29,
   "id": "b139fe96",
   "metadata": {},
   "outputs": [
    {
     "data": {
      "application/vnd.jupyter.widget-view+json": {
       "model_id": "",
       "version_major": 2,
       "version_minor": 0
      },
      "text/plain": [
       "Evaluation step: 0it [00:00, ?it/s]"
      ]
     },
     "metadata": {},
     "output_type": "display_data"
    },
    {
     "data": {
      "text/plain": [
       "(tensor(0.8674, device='cuda:0'), 1.3677012896786134)"
      ]
     },
     "execution_count": 29,
     "metadata": {},
     "output_type": "execute_result"
    }
   ],
   "source": [
    "end_eval_acc, end_eval_loss = evaluate(valid_dataloader, model, device, loss_function)\n",
    "eval_accuracy_list.append(end_eval_acc)\n",
    "eval_loss_list.append(end_eval_loss)\n",
    "end_eval_acc, end_eval_loss"
   ]
  },
  {
   "cell_type": "code",
   "execution_count": 32,
   "id": "614c3ab3",
   "metadata": {},
   "outputs": [
    {
     "data": {
      "text/plain": [
       "array([[7.07049966e-01, 7.07049966e-01, 7.07049966e-01, 7.07049966e-01,\n",
       "        8.12166750e-01, 8.29299808e-01, 8.49299967e-01, 8.59283447e-01,\n",
       "        8.58450115e-01, 8.60216558e-01, 8.58216882e-01, 8.61000240e-01,\n",
       "        8.57099771e-01, 8.62516999e-01, 8.59316826e-01, 8.59583139e-01,\n",
       "        8.67133617e-01, 8.64066720e-01, 8.70333493e-01, 8.67149889e-01,\n",
       "        8.69916975e-01, 8.65300357e-01, 8.62883031e-01, 8.64716649e-01,\n",
       "        8.65883112e-01, 8.65033269e-01, 8.63783002e-01, 8.66865933e-01,\n",
       "        8.67416561e-01],\n",
       "       [1.58199646e+00, 1.58157601e+00, 1.58168213e+00, 1.58110453e+00,\n",
       "        1.41960319e+00, 1.40474944e+00, 1.39048521e+00, 1.38583497e+00,\n",
       "        1.38288889e+00, 1.37709512e+00, 1.37545963e+00, 1.37358511e+00,\n",
       "        1.37146221e+00, 1.37084598e+00, 1.37148006e+00, 1.37800675e+00,\n",
       "        1.36929291e+00, 1.36940168e+00, 1.37265202e+00, 1.36882187e+00,\n",
       "        1.37204032e+00, 1.36992067e+00, 1.37491668e+00, 1.36966424e+00,\n",
       "        1.36773138e+00, 1.37105419e+00, 1.36812103e+00, 1.36915975e+00,\n",
       "        1.36770129e+00],\n",
       "       [1.00000000e+03, 2.00000000e+03, 3.00000000e+03, 4.00000000e+03,\n",
       "        5.00000000e+03, 6.00000000e+03, 7.00000000e+03, 8.00000000e+03,\n",
       "        9.00000000e+03, 1.00000000e+04, 1.10000000e+04, 1.20000000e+04,\n",
       "        1.30000000e+04, 1.40000000e+04, 1.50000000e+04, 1.60000000e+04,\n",
       "        1.70000000e+04, 1.80000000e+04, 1.90000000e+04, 2.00000000e+04,\n",
       "        2.10000000e+04, 2.20000000e+04, 2.30000000e+04, 2.40000000e+04,\n",
       "        2.50000000e+04, 2.60000000e+04, 2.70000000e+04, 2.80000000e+04,\n",
       "        2.81250000e+04]])"
      ]
     },
     "execution_count": 32,
     "metadata": {},
     "output_type": "execute_result"
    }
   ],
   "source": [
    "eval_accuracy_list = [acc.cpu() for acc in eval_accuracy_list]\n",
    "#eval_loss_list = [loss.cpu() for loss in eval_loss_list]\n",
    "eval_steps = np.arange(1000, k+1, 1000)\n",
    "eval_steps = np.append(eval_steps, k)\n",
    "eval_results = np.array([eval_accuracy_list, eval_loss_list, eval_steps])\n",
    "eval_results "
   ]
  },
  {
   "cell_type": "code",
   "execution_count": 33,
   "id": "ece2e2eb",
   "metadata": {},
   "outputs": [],
   "source": [
    "np.savez(\"GRU_results.npz\", train_loss, eval_results)"
   ]
  },
  {
   "cell_type": "code",
   "execution_count": 34,
   "id": "93576f0c",
   "metadata": {},
   "outputs": [
    {
     "data": {
      "application/vnd.jupyter.widget-view+json": {
       "model_id": "",
       "version_major": 2,
       "version_minor": 0
      },
      "text/plain": [
       "Evaluation step: 0it [00:00, ?it/s]"
      ]
     },
     "metadata": {},
     "output_type": "display_data"
    },
    {
     "name": "stdout",
     "output_type": "stream",
     "text": [
      "[[3.2740e+03 1.0000e+00 3.0930e+03 1.0645e+04 1.0000e+00]\n",
      " [2.9600e+03 1.0000e+00 3.0200e+02 4.8560e+03 1.0000e+00]\n",
      " [1.2930e+03 5.8200e+02 4.7300e+02 1.4000e+02 1.4890e+03]]\n"
     ]
    },
    {
     "data": {
      "text/plain": [
       "(tensor(0.8676, device='cuda:0'), 0.5643636335154463, 0.6791744840525329)"
      ]
     },
     "execution_count": 34,
     "metadata": {},
     "output_type": "execute_result"
    }
   ],
   "source": [
    "test(test_dataloader, model, device, batch_size)"
   ]
  },
  {
   "cell_type": "markdown",
   "id": "5137007e",
   "metadata": {},
   "source": [
    "## Test"
   ]
  },
  {
   "cell_type": "code",
   "execution_count": 19,
   "id": "5029d11b",
   "metadata": {},
   "outputs": [
    {
     "data": {
      "text/plain": [
       "22500"
      ]
     },
     "execution_count": 19,
     "metadata": {},
     "output_type": "execute_result"
    }
   ],
   "source": [
    "k"
   ]
  },
  {
   "cell_type": "code",
   "execution_count": 27,
   "id": "ec163b8c",
   "metadata": {},
   "outputs": [
    {
     "data": {
      "text/plain": [
       "device(type='cpu')"
      ]
     },
     "execution_count": 27,
     "metadata": {},
     "output_type": "execute_result"
    }
   ],
   "source": [
    "eval_accuracy_list[0].device"
   ]
  },
  {
   "cell_type": "code",
   "execution_count": 9,
   "id": "ebda78c6",
   "metadata": {},
   "outputs": [
    {
     "data": {
      "text/plain": [
       "tensor([[[1],\n",
       "         [1],\n",
       "         [1],\n",
       "         [1]],\n",
       "\n",
       "        [[1],\n",
       "         [1],\n",
       "         [5],\n",
       "         [1]],\n",
       "\n",
       "        [[1],\n",
       "         [1],\n",
       "         [1],\n",
       "         [1]],\n",
       "\n",
       "        [[1],\n",
       "         [1],\n",
       "         [1],\n",
       "         [1]],\n",
       "\n",
       "        [[1],\n",
       "         [1],\n",
       "         [1],\n",
       "         [1]]])"
      ]
     },
     "execution_count": 9,
     "metadata": {},
     "output_type": "execute_result"
    }
   ],
   "source": [
    "a[1][2] = 5\n",
    "a"
   ]
  },
  {
   "cell_type": "code",
   "execution_count": 27,
   "id": "a7c72ccf",
   "metadata": {},
   "outputs": [],
   "source": [
    "test_embedding = torch.nn.Embedding(20, 10)"
   ]
  },
  {
   "cell_type": "code",
   "execution_count": 37,
   "id": "0b94de62",
   "metadata": {},
   "outputs": [
    {
     "data": {
      "text/plain": [
       "3"
      ]
     },
     "execution_count": 37,
     "metadata": {},
     "output_type": "execute_result"
    }
   ],
   "source": [
    "a = torch.tensor([[11, 12], [13, 14], [1,1]])\n",
    "a.shape[0]"
   ]
  },
  {
   "cell_type": "code",
   "execution_count": 38,
   "id": "e488f9e0",
   "metadata": {},
   "outputs": [
    {
     "ename": "NameError",
     "evalue": "name 'test_embedding' is not defined",
     "output_type": "error",
     "traceback": [
      "\u001b[1;31m---------------------------------------------------------------------------\u001b[0m",
      "\u001b[1;31mNameError\u001b[0m                                 Traceback (most recent call last)",
      "\u001b[1;32m~\\AppData\\Local\\Temp/ipykernel_17848/2896028945.py\u001b[0m in \u001b[0;36m<module>\u001b[1;34m\u001b[0m\n\u001b[1;32m----> 1\u001b[1;33m \u001b[0mtest_embedding\u001b[0m\u001b[1;33m(\u001b[0m\u001b[0ma\u001b[0m\u001b[1;33m)\u001b[0m\u001b[1;33m\u001b[0m\u001b[1;33m\u001b[0m\u001b[0m\n\u001b[0m",
      "\u001b[1;31mNameError\u001b[0m: name 'test_embedding' is not defined"
     ]
    }
   ],
   "source": [
    "test_embedding(a)"
   ]
  },
  {
   "cell_type": "code",
   "execution_count": 51,
   "id": "1fd06661",
   "metadata": {},
   "outputs": [
    {
     "data": {
      "text/plain": [
       "array([[1, 2, 3, 4],\n",
       "       [5, 6, 7, 8]])"
      ]
     },
     "execution_count": 51,
     "metadata": {},
     "output_type": "execute_result"
    }
   ],
   "source": [
    "b = np.array([[1,2,3,4],[5,6,7,8]])\n",
    "b"
   ]
  },
  {
   "cell_type": "code",
   "execution_count": 52,
   "id": "fdca9369",
   "metadata": {},
   "outputs": [
    {
     "data": {
      "text/plain": [
       "array([[[1, 2, 3, 4]],\n",
       "\n",
       "       [[5, 6, 7, 8]]])"
      ]
     },
     "execution_count": 52,
     "metadata": {},
     "output_type": "execute_result"
    }
   ],
   "source": [
    "np.expand_dims(b, axis=1)"
   ]
  },
  {
   "cell_type": "code",
   "execution_count": 65,
   "id": "352db323",
   "metadata": {},
   "outputs": [
    {
     "data": {
      "text/plain": [
       "tensor([[0., 0., 0., 1., 0.]], dtype=torch.float64)"
      ]
     },
     "execution_count": 65,
     "metadata": {},
     "output_type": "execute_result"
    }
   ],
   "source": [
    "torch.tensor(train_Y_np[:2][0])"
   ]
  },
  {
   "cell_type": "code",
   "execution_count": 84,
   "id": "682e0455",
   "metadata": {},
   "outputs": [],
   "source": [
    "inputs, labels = train_dataset.__getitem__(0)"
   ]
  },
  {
   "cell_type": "code",
   "execution_count": 85,
   "id": "b1386cfa",
   "metadata": {},
   "outputs": [
    {
     "data": {
      "text/plain": [
       "tensor([0., 0., 0., 1., 0.], dtype=torch.float64)"
      ]
     },
     "execution_count": 85,
     "metadata": {},
     "output_type": "execute_result"
    }
   ],
   "source": [
    "labels"
   ]
  },
  {
   "cell_type": "code",
   "execution_count": 18,
   "id": "0de5b9cc",
   "metadata": {},
   "outputs": [
    {
     "data": {
      "text/plain": [
       "tensor([  1,   4,   5,   6,   7,   8,   9,  10,  11,  12,  13,  14,  15,  16,\n",
       "          4,  17,  18,  19,  20,  11,  15,  21,  22,  23,  24,  25,  20,  26,\n",
       "         27,  22,  28,  29,  30,  31,  32,  33,  34,  35,  11,  36,  37,  38,\n",
       "         39,  40,  41,  29,  30,  42,  43,  44,  45,  35,  46,  41,  47,  35,\n",
       "         48,  49,  50,  41,  51,  41,  52,   3,  53,  54,  55,  56,  34,  57,\n",
       "         35,  11,  35,  58,  15,  59,  60,  61,  18,  62,  63,  64,  65,  54,\n",
       "         18,  66,  40,  67,  18,  68,  69,  70,  71,  15,  72,  22,  73,  35,\n",
       "         11,  36,  74,  37,  38,  39,  75,  76,  77,  30,  78,  79,  35,  74,\n",
       "         40,  67,  15,  80,  81,  22,  35,  82,  83,  41,  35,  60,  58,  84,\n",
       "         22,  85,  35,  72,  68,  69,  70,  71,  18,  86,  87,  88,  89,  90,\n",
       "         91,  15,  92,  22,  93,  35,  74,  40,  67,  94,  35,  95,  96,  41,\n",
       "         35,  91,  15,  97,  98,  18,  99, 100,  82,  70, 101, 102, 103,   3,\n",
       "        104, 105, 101, 106,  14, 107,  15,  72,  22, 108,  35,  74,  67,  78,\n",
       "         54,  98, 109, 110,  45, 111,  27,  35, 107, 112, 113, 114, 115,  35,\n",
       "         74,  40,  67, 116, 117, 118,   5,  18, 119, 120, 121, 122, 123,  70,\n",
       "        124,  15,  72,  22, 125,  35,  95,  96,  22,  18, 126, 127, 128, 129,\n",
       "          4, 130,  98, 109, 110,  18, 131, 132,  77,  35, 133,   3,  15, 134,\n",
       "        135,  17, 136, 137, 138, 139,  77,  35, 140, 141,  41, 142, 143,  54,\n",
       "         55,  27,  35, 144, 145, 146, 147, 148,  35,  72,   3, 149, 150, 151,\n",
       "        152,  35, 153,   3, 154,  90, 155,  22,  35, 156, 157, 130,  61, 158,\n",
       "         70,  39, 159,  95, 107, 157,   2,   0,   0,   0,   0,   0,   0,   0,\n",
       "          0,   0,   0,   0,   0,   0], dtype=torch.int32)"
      ]
     },
     "execution_count": 18,
     "metadata": {},
     "output_type": "execute_result"
    }
   ],
   "source": [
    "train_dataset[0][0]"
   ]
  },
  {
   "cell_type": "code",
   "execution_count": 4,
   "id": "a8d688a5",
   "metadata": {},
   "outputs": [
    {
     "data": {
      "text/plain": [
       "1"
      ]
     },
     "execution_count": 4,
     "metadata": {},
     "output_type": "execute_result"
    }
   ],
   "source": [
    "test = False\n",
    "a = 2 if test else 1\n",
    "a"
   ]
  },
  {
   "cell_type": "code",
   "execution_count": null,
   "id": "ee149ba5",
   "metadata": {},
   "outputs": [],
   "source": []
  },
  {
   "cell_type": "code",
   "execution_count": null,
   "id": "3a637517",
   "metadata": {},
   "outputs": [],
   "source": []
  }
 ],
 "metadata": {
  "kernelspec": {
   "display_name": "Python 3 (ipykernel)",
   "language": "python",
   "name": "python3"
  },
  "language_info": {
   "codemirror_mode": {
    "name": "ipython",
    "version": 3
   },
   "file_extension": ".py",
   "mimetype": "text/x-python",
   "name": "python",
   "nbconvert_exporter": "python",
   "pygments_lexer": "ipython3",
   "version": "3.9.1"
  }
 },
 "nbformat": 4,
 "nbformat_minor": 5
}
