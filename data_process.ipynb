{
 "cells": [
  {
   "cell_type": "code",
   "execution_count": 11,
   "id": "3f34920a",
   "metadata": {},
   "outputs": [],
   "source": [
    "import json\n",
    "import pandas as pd\n",
    "from collections import Counter\n",
    "from tqdm.auto import tqdm\n",
    "import os"
   ]
  },
  {
   "cell_type": "markdown",
   "id": "d98e0964",
   "metadata": {},
   "source": [
    "## Initialization"
   ]
  },
  {
   "cell_type": "code",
   "execution_count": 2,
   "id": "3be82fbc",
   "metadata": {},
   "outputs": [],
   "source": [
    "articles = []\n",
    "with open('archive/arxiv-metadata-oai-snapshot.json') as f:\n",
    "    for l in f:\n",
    "        d = json.loads(l)\n",
    "        articles.append(d)"
   ]
  },
  {
   "cell_type": "code",
   "execution_count": 3,
   "id": "2b9d5350",
   "metadata": {},
   "outputs": [
    {
     "data": {
      "text/plain": [
       "{'id': '0704.0021',\n",
       " 'submitter': 'Yuichi Togashi',\n",
       " 'authors': 'Vanessa Casagrande, Yuichi Togashi, Alexander S. Mikhailov',\n",
       " 'title': 'Molecular Synchronization Waves in Arrays of Allosterically Regulated\\n  Enzymes',\n",
       " 'comments': '5 pages, 4 figures',\n",
       " 'journal-ref': 'Phys. Rev. Lett. 99, 048301 (2007)',\n",
       " 'doi': '10.1103/PhysRevLett.99.048301',\n",
       " 'report-no': None,\n",
       " 'categories': 'nlin.PS physics.chem-ph q-bio.MN',\n",
       " 'license': None,\n",
       " 'abstract': '  Spatiotemporal pattern formation in a product-activated enzymic reaction at\\nhigh enzyme concentrations is investigated. Stochastic simulations show that\\ncatalytic turnover cycles of individual enzymes can become coherent and that\\ncomplex wave patterns of molecular synchronization can develop. The analysis\\nbased on the mean-field approximation indicates that the observed patterns\\nresult from the presence of Hopf and wave bifurcations in the considered\\nsystem.\\n',\n",
       " 'versions': [{'version': 'v1', 'created': 'Sat, 31 Mar 2007 12:57:59 GMT'},\n",
       "  {'version': 'v2', 'created': 'Tue, 24 Jul 2007 04:01:20 GMT'}],\n",
       " 'update_date': '2007-07-24',\n",
       " 'authors_parsed': [['Casagrande', 'Vanessa', ''],\n",
       "  ['Togashi', 'Yuichi', ''],\n",
       "  ['Mikhailov', 'Alexander S.', '']]}"
      ]
     },
     "execution_count": 3,
     "metadata": {},
     "output_type": "execute_result"
    }
   ],
   "source": [
    "articles[20]"
   ]
  },
  {
   "cell_type": "code",
   "execution_count": 4,
   "id": "afcd1102",
   "metadata": {},
   "outputs": [
    {
     "data": {
      "text/plain": [
       "2155072"
      ]
     },
     "execution_count": 4,
     "metadata": {},
     "output_type": "execute_result"
    }
   ],
   "source": [
    "len(articles)"
   ]
  },
  {
   "cell_type": "code",
   "execution_count": 5,
   "id": "c541ac54",
   "metadata": {},
   "outputs": [],
   "source": [
    "def if_cs(article):\n",
    "    categories = article[\"categories\"].split(\" \")\n",
    "    result = False\n",
    "    for category in categories:\n",
    "        if category.split('.')[0] == \"cs\":\n",
    "            result = True\n",
    "            break\n",
    "            \n",
    "    return result"
   ]
  },
  {
   "cell_type": "code",
   "execution_count": 6,
   "id": "8d416740",
   "metadata": {},
   "outputs": [],
   "source": [
    "cs_articles = list(filter(if_cs, articles))"
   ]
  },
  {
   "cell_type": "code",
   "execution_count": 7,
   "id": "5b8df39d",
   "metadata": {},
   "outputs": [
    {
     "data": {
      "text/plain": [
       "468624"
      ]
     },
     "execution_count": 7,
     "metadata": {},
     "output_type": "execute_result"
    }
   ],
   "source": [
    "len(cs_articles)"
   ]
  },
  {
   "cell_type": "code",
   "execution_count": 8,
   "id": "bf174a91",
   "metadata": {},
   "outputs": [
    {
     "data": {
      "text/plain": [
       "{'id': '0704.0047',\n",
       " 'submitter': 'Igor Grabec',\n",
       " 'authors': 'T. Kosel and I. Grabec',\n",
       " 'title': 'Intelligent location of simultaneously active acoustic emission sources:\\n  Part I',\n",
       " 'comments': '5 pages, 5 eps figures, uses IEEEtran.cls',\n",
       " 'journal-ref': None,\n",
       " 'doi': None,\n",
       " 'report-no': None,\n",
       " 'categories': 'cs.NE cs.AI',\n",
       " 'license': None,\n",
       " 'abstract': '  The intelligent acoustic emission locator is described in Part I, while Part\\nII discusses blind source separation, time delay estimation and location of two\\nsimultaneously active continuous acoustic emission sources.\\n  The location of acoustic emission on complicated aircraft frame structures is\\na difficult problem of non-destructive testing. This article describes an\\nintelligent acoustic emission source locator. The intelligent locator comprises\\na sensor antenna and a general regression neural network, which solves the\\nlocation problem based on learning from examples. Locator performance was\\ntested on different test specimens. Tests have shown that the accuracy of\\nlocation depends on sound velocity and attenuation in the specimen, the\\ndimensions of the tested area, and the properties of stored data. The location\\naccuracy achieved by the intelligent locator is comparable to that obtained by\\nthe conventional triangulation method, while the applicability of the\\nintelligent locator is more general since analysis of sonic ray paths is\\navoided. This is a promising method for non-destructive testing of aircraft\\nframe structures by the acoustic emission method.\\n',\n",
       " 'versions': [{'version': 'v1', 'created': 'Sun, 1 Apr 2007 13:06:50 GMT'}],\n",
       " 'update_date': '2009-09-29',\n",
       " 'authors_parsed': [['Kosel', 'T.', ''], ['Grabec', 'I.', '']]}"
      ]
     },
     "execution_count": 8,
     "metadata": {},
     "output_type": "execute_result"
    }
   ],
   "source": [
    "cs_articles[2]"
   ]
  },
  {
   "cell_type": "code",
   "execution_count": 9,
   "id": "f1459b5d",
   "metadata": {},
   "outputs": [],
   "source": [
    "cs_statics = []\n",
    "for cs_article in cs_articles:\n",
    "    categories = cs_article[\"categories\"].split(\" \")\n",
    "    for category in categories:\n",
    "        if category.split('.')[0] == \"cs\":\n",
    "            cs_statics.append(category)\n",
    "        "
   ]
  },
  {
   "cell_type": "code",
   "execution_count": 10,
   "id": "8d0e7573",
   "metadata": {},
   "outputs": [
    {
     "data": {
      "text/plain": [
       "Counter({'cs.CG': 5927,\n",
       "         'cs.IT': 40771,\n",
       "         'cs.NE': 11695,\n",
       "         'cs.AI': 54149,\n",
       "         'cs.DS': 20427,\n",
       "         'cs.CE': 5358,\n",
       "         'cs.MS': 1940,\n",
       "         'cs.NA': 16675,\n",
       "         'cs.CC': 9340,\n",
       "         'cs.DM': 11584,\n",
       "         'cs.LO': 13756,\n",
       "         'cs.CR': 24348,\n",
       "         'cs.NI': 18673,\n",
       "         'cs.LG': 123692,\n",
       "         'cs.PF': 3243,\n",
       "         'cs.SE': 12065,\n",
       "         'cs.AR': 3378,\n",
       "         'cs.SC': 2169,\n",
       "         'cs.CY': 13558,\n",
       "         'cs.IR': 12613,\n",
       "         'cs.CV': 84606,\n",
       "         'cs.OH': 2111,\n",
       "         'cs.DB': 7139,\n",
       "         'cs.DL': 4173,\n",
       "         'cs.HC': 11300,\n",
       "         'cs.PL': 6481,\n",
       "         'cs.GT': 9245,\n",
       "         'cs.DC': 17278,\n",
       "         'cs.MA': 5711,\n",
       "         'cs.CL': 39525,\n",
       "         'cs.MM': 4585,\n",
       "         'cs.RO': 21377,\n",
       "         'cs.ET': 3090,\n",
       "         'cs.GL': 197,\n",
       "         'cs.FL': 4205,\n",
       "         'cs.OS': 728,\n",
       "         'cs.SD': 9631,\n",
       "         'cs.GR': 4129,\n",
       "         'cs.SY': 23108,\n",
       "         'cs.SI': 16653})"
      ]
     },
     "execution_count": 10,
     "metadata": {},
     "output_type": "execute_result"
    }
   ],
   "source": [
    "Counter(cs_statics)"
   ]
  },
  {
   "cell_type": "code",
   "execution_count": 12,
   "id": "a9356259",
   "metadata": {},
   "outputs": [],
   "source": [
    "category_list = [\"cs.AI\", \"cs.DB\", \"cs.IT\", \"cs.LG\", \"cs.SI\"]"
   ]
  },
  {
   "cell_type": "code",
   "execution_count": 13,
   "id": "9a3073cd",
   "metadata": {},
   "outputs": [],
   "source": [
    "selected_articles = []\n",
    "for cs_article in cs_articles:\n",
    "    categories = cs_article[\"categories\"].split(\" \")\n",
    "    for category in categories:\n",
    "        if category in category_list:\n",
    "            selected_articles.append(cs_article)\n",
    "            break"
   ]
  },
  {
   "cell_type": "code",
   "execution_count": 14,
   "id": "d5ff8f25",
   "metadata": {},
   "outputs": [
    {
     "data": {
      "text/plain": [
       "210261"
      ]
     },
     "execution_count": 14,
     "metadata": {},
     "output_type": "execute_result"
    }
   ],
   "source": [
    "len(selected_articles)"
   ]
  },
  {
   "cell_type": "code",
   "execution_count": 15,
   "id": "c9452a64",
   "metadata": {},
   "outputs": [],
   "source": [
    "with open(\"selected_articles.json\", 'w') as file:\n",
    "    json.dump(selected_articles, file)"
   ]
  }
 ],
 "metadata": {
  "kernelspec": {
   "display_name": "Python 3 (ipykernel)",
   "language": "python",
   "name": "python3"
  },
  "language_info": {
   "codemirror_mode": {
    "name": "ipython",
    "version": 3
   },
   "file_extension": ".py",
   "mimetype": "text/x-python",
   "name": "python",
   "nbconvert_exporter": "python",
   "pygments_lexer": "ipython3",
   "version": "3.9.1"
  }
 },
 "nbformat": 4,
 "nbformat_minor": 5
}
